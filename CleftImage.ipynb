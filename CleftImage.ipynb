{
 "cells": [
  {
   "cell_type": "code",
   "execution_count": 165,
   "metadata": {},
   "outputs": [],
   "source": [
    "from PIL import Image, ImageDraw\n",
    "import numpy as np\n",
    "import math\n",
    "import PIL.ImageFont as ImageFont\n",
    "np.set_printoptions(precision = 2)"
   ]
  },
  {
   "cell_type": "code",
   "execution_count": 2,
   "metadata": {},
   "outputs": [
    {
     "name": "stdout",
     "output_type": "stream",
     "text": [
      "Size:  (197, 255)\n"
     ]
    }
   ],
   "source": [
    "im = Image.open(\"graph.png\").convert(\"RGB\")\n",
    "#get size\n",
    "wh = im.size\n",
    "print(\"Size: \",wh)\n",
    "#im.show()\n",
    "\n"
   ]
  },
  {
   "cell_type": "code",
   "execution_count": 3,
   "metadata": {},
   "outputs": [],
   "source": [
    "draw = ImageDraw.Draw(im)\n",
    "draw.point((100, 100), 'red')\n",
    "draw.ellipse((50,50,60,60), fill = \"red\")\n",
    "im.show()"
   ]
  },
  {
   "cell_type": "code",
   "execution_count": 4,
   "metadata": {},
   "outputs": [
    {
     "ename": "NameError",
     "evalue": "name 'd' is not defined",
     "output_type": "error",
     "traceback": [
      "\u001b[0;31m---------------------------------------------------------------------------\u001b[0m",
      "\u001b[0;31mNameError\u001b[0m                                 Traceback (most recent call last)",
      "\u001b[0;32m<ipython-input-4-ee47ed0510a1>\u001b[0m in \u001b[0;36m<module>\u001b[0;34m\u001b[0m\n\u001b[1;32m      5\u001b[0m \u001b[0mline_color\u001b[0m \u001b[0;34m=\u001b[0m \u001b[0;34m(\u001b[0m\u001b[0;36m0\u001b[0m\u001b[0;34m,\u001b[0m \u001b[0;36m0\u001b[0m\u001b[0;34m,\u001b[0m \u001b[0;36m200\u001b[0m\u001b[0;34m)\u001b[0m\u001b[0;34m\u001b[0m\u001b[0;34m\u001b[0m\u001b[0m\n\u001b[1;32m      6\u001b[0m \u001b[0;34m\u001b[0m\u001b[0m\n\u001b[0;32m----> 7\u001b[0;31m \u001b[0md\u001b[0m\u001b[0;34m.\u001b[0m\u001b[0mline\u001b[0m\u001b[0;34m(\u001b[0m\u001b[0;34m[\u001b[0m\u001b[0mtop\u001b[0m\u001b[0;34m,\u001b[0m \u001b[0mleft\u001b[0m\u001b[0;34m,\u001b[0m \u001b[0mright\u001b[0m\u001b[0;34m,\u001b[0m \u001b[0mtop\u001b[0m\u001b[0;34m]\u001b[0m\u001b[0;34m,\u001b[0m \u001b[0mfill\u001b[0m\u001b[0;34m=\u001b[0m\u001b[0mline_color\u001b[0m\u001b[0;34m,\u001b[0m \u001b[0mwidth\u001b[0m\u001b[0;34m=\u001b[0m\u001b[0;36m2\u001b[0m\u001b[0;34m)\u001b[0m\u001b[0;34m\u001b[0m\u001b[0;34m\u001b[0m\u001b[0m\n\u001b[0m\u001b[1;32m      8\u001b[0m \u001b[0;34m\u001b[0m\u001b[0m\n\u001b[1;32m      9\u001b[0m \u001b[0mim\u001b[0m\u001b[0;34m.\u001b[0m\u001b[0msave\u001b[0m\u001b[0;34m(\u001b[0m\u001b[0;34m\"drawn_grid.png\"\u001b[0m\u001b[0;34m)\u001b[0m\u001b[0;34m\u001b[0m\u001b[0;34m\u001b[0m\u001b[0m\n",
      "\u001b[0;31mNameError\u001b[0m: name 'd' is not defined"
     ]
    }
   ],
   "source": [
    "top = (150, 50)\n",
    "left = (100, 125)\n",
    "right = (200, 125)\n",
    "\n",
    "line_color = (0, 0, 200)\n",
    "\n",
    "d.line([top, left, right, top], fill=line_color, width=2)\n",
    "\n",
    "im.save(\"drawn_grid.png\")"
   ]
  },
  {
   "cell_type": "code",
   "execution_count": 288,
   "metadata": {},
   "outputs": [],
   "source": [
    "def getDist(pt1, pt2):\n",
    "    xdist = pt1[0]-pt2[0]\n",
    "    ydist = pt1[1] - pt2[1]\n",
    "    xdist = xdist*xdist\n",
    "    ydist = ydist*ydist\n",
    "    distance = math.sqrt(xdist+ydist)\n",
    "    return distance\n",
    "\n",
    "def getDistFromLine(line=[0,0,0], pt = [0,0]):\n",
    "    numerator = abs(line[0]*pt[0]+line[1]*pt[1]+line[2])\n",
    "    denominator = math.sqrt(line[0]**2+line[1]**2)\n",
    "    #print(numerator, denominator)\n",
    "    if(denominator==0):\n",
    "        denominator = 1\n",
    "    return (numerator*1.0)/denominator\n",
    "\n",
    "def getSlope(pt1, pt2):\n",
    "    ydiff = pt2[1]-pt1[1]\n",
    "    xdiff = pt2[0]-pt1[0]\n",
    "    return (ydiff*1.0)/xdiff\n",
    "\n",
    "\n",
    "def getLineFromTwoPoints(pt1, pt2):\n",
    "    m = getSlope(pt1, pt2)\n",
    "    a = m\n",
    "    b = -1\n",
    "    c = -m*pt1[0]+pt1[1]\n",
    "    print(\"Line: {0:0.1f}x+{1:0.1f}y+{2:0.1f}c=0\".format(a,b,c))\n",
    "    return [a, b, c]\n",
    "\n",
    "def findYCoordinate(line, x):\n",
    "    y = (-1.0*line[2]-x*line[0])/line[1]\n",
    "    return y\n",
    "\n",
    "def findPtAtDistOnLine(line, pt, targetDistance):\n",
    "    eps = 2\n",
    "    for x in range(0, 4000):\n",
    "        y = findYCoordinate(line, x)\n",
    "        dist = getDist(pt, [x,y])\n",
    "        if(abs(targetDistance-dist)<eps):\n",
    "            return [x,y]\n",
    "    return [0,0]\n",
    "\n",
    "def getAngleBetweenTwoLines(line1,line2):\n",
    "    m1 = (-1.0*line1[0]/line1[1])\n",
    "    m2 = (-1.0*line2[0]/line2[1])\n",
    "    tantheta = abs((m2-m1)/(1+m1*m2))\n",
    "    theta = math.degrees(math.atan(tantheta))\n",
    "    #print(m1, m2, tantheta, theta)\n",
    "    return theta"
   ]
  },
  {
   "cell_type": "code",
   "execution_count": 296,
   "metadata": {},
   "outputs": [
    {
     "name": "stdout",
     "output_type": "stream",
     "text": [
      "Size:  (4032, 3024)\n"
     ]
    }
   ],
   "source": [
    "#Patient Image\n",
    "ptlarge = Image.open(\"pt1large.JPG\").convert(\"RGB\")\n",
    "wh = ptlarge.size\n",
    "print(\"Size: \", wh)\n",
    "ptlarge = ptlarge.rotate(90)\n",
    "ptsmall = ptlarge.resize((1210,907),Image.ANTIALIAS)\n",
    "ptsmall.save(\"pt1small.jpg\")"
   ]
  },
  {
   "cell_type": "code",
   "execution_count": 290,
   "metadata": {},
   "outputs": [],
   "source": [
    "ptsmall = Image.open(\"pt1small.jpg\").convert(\"RGB\")\n",
    "ptsmall.show()"
   ]
  },
  {
   "cell_type": "code",
   "execution_count": 291,
   "metadata": {},
   "outputs": [],
   "source": [
    "#Draw points on the image\n",
    "r = 10\n",
    "x1,y1 = 1670,1270\n",
    "x2,y2 = 1880,1350\n",
    "x3,y3 = 1880,1430\n",
    "x4,y4 = 1750,1440\n",
    "x5,y5 = 1690,1360\n",
    "x6,y6 = 1900,1360\n",
    "\n",
    "pt1 = [1660, 1260, 1680, 1280]\n",
    "pt2 = [1870, 1340, 1890, 1360]\n",
    "pt3 = [1870,1420,1890,1440]\n",
    "line_color = \"yellow\"\n",
    "font_size = 60\n",
    "font = ImageFont.truetype(\"Arial.ttf\", font_size)"
   ]
  },
  {
   "cell_type": "code",
   "execution_count": 292,
   "metadata": {},
   "outputs": [],
   "source": [
    "#draw on image\n",
    "ptlarge = Image.open(\"pt1large.JPG\").convert(\"RGB\")\n",
    "ptdraw = ImageDraw.Draw(ptlarge)\n",
    "ptdraw.ellipse([x1-r, y1-r, x1+r, y1+r], fill = \"red\")\n",
    "ptdraw.ellipse([x2-r, y2-r, x2+r, y2+r], fill = \"red\")\n",
    "ptdraw.ellipse([x3-r, y3-r, x3+r, y3+r], fill = \"red\")\n",
    "ptdraw.ellipse([x4-r, y4-r, x4+r, y4+r], fill = \"red\")\n",
    "ptdraw.ellipse([x5-r, y5-r, x5+r, y5+r], fill = \"red\")\n",
    "ptdraw.ellipse([x6-r, y6-r, x6+r, y6+r], fill = \"red\")\n",
    "\n",
    "ptlarge.show()"
   ]
  },
  {
   "cell_type": "code",
   "execution_count": 293,
   "metadata": {},
   "outputs": [
    {
     "name": "stdout",
     "output_type": "stream",
     "text": [
      "Length of normal philtral column: 224.72\n",
      "Line: 0.0x+-1.0y+1360.0c=0\n",
      "Length deficit: 94.34\n",
      "Perpendicular distance from midline: 70.00\n"
     ]
    }
   ],
   "source": [
    "#Coordinate Geometry\n",
    "philtralLen = getDist([x1,y1],[x2,y2])\n",
    "print(\"Length of normal philtral column: {0:0.2f}\".format(philtralLen))\n",
    "ptdraw.line([x1,y1,x2,y2], fill=line_color, width = 4)\n",
    "midLine = getLineFromTwoPoints([x5,y5],[x6,y6])\n",
    "ptdraw.line([x5,y5,x6,y6], fill=line_color, width=4)\n",
    "#ptlarge.show()\n",
    "cleftLen = getDist([x3,y3],[x4,y4])\n",
    "deficitLen = philtralLen - cleftLen\n",
    "print(\"Length deficit: {0:0.2f}\".format(deficitLen))\n",
    "distFromMidLine = getDistFromLine(midLine, [x3,y3])\n",
    "print(\"Perpendicular distance from midline: {0:0.2f}\".format(distFromMidLine))\n"
   ]
  },
  {
   "cell_type": "code",
   "execution_count": 294,
   "metadata": {},
   "outputs": [
    {
     "name": "stdout",
     "output_type": "stream",
     "text": [
      "Line: 1.1x+-1.0y+-563.9c=0\n"
     ]
    }
   ],
   "source": [
    "#Find target point on line\n",
    "targetPtOnLine = findPtAtDistOnLine(midLine, [x3,y3], deficitLen)\n",
    "backCutLine = getLineFromTwoPoints([x3,y3], targetPtOnLine)\n",
    "ptdraw.line([x3,y3,targetPtOnLine[0], targetPtOnLine[1]], fill=line_color, width=8)\n"
   ]
  },
  {
   "cell_type": "code",
   "execution_count": 295,
   "metadata": {},
   "outputs": [
    {
     "name": "stdout",
     "output_type": "stream",
     "text": [
      "Line: -0.1x+-1.0y+1574.6c=0\n",
      "BackCutAngle: 51.1 degrees\n"
     ]
    }
   ],
   "source": [
    "#Find angle betweeen C flap line and back cut line\n",
    "CFlapLine = getLineFromTwoPoints([x4,y4],[x3,y3])\n",
    "BackCutAngle = getAngleBetweenTwoLines(CFlapLine, backCutLine)\n",
    "ptdraw.line([x3,y3,x4,y4], fill=line_color, width=8)\n",
    "ptdraw.arc([1820, 1380, 1920, 1480], start = 180, end = 180+BackCutAngle, fill=\"white\", width = 8)\n",
    "print(\"BackCutAngle: {0:0.1f} degrees\".format(BackCutAngle))\n",
    "ptdraw.text((1600, 1100), \"Back cut angle {0:0.2f} degrees\".format(BackCutAngle), font = font)\n",
    "ptdraw.text((x1,y1), \"1\", font = font)\n",
    "ptdraw.text((x2-30,y2-60), \"2\", font = font)\n",
    "ptdraw.text((x3,y3), \"3\", font = font)\n",
    "ptdraw.text((x4,y4), \"4\", font = font)\n",
    "ptdraw.text((x5,y5), \"5\", font = font)\n",
    "ptdraw.text((x6,y6), \"6\", font = font)\n",
    "ptdraw.text((targetPtOnLine[0]-10,targetPtOnLine[1]-60),\"7\",font=font)\n",
    "\n",
    "ptlarge.show()"
   ]
  },
  {
   "cell_type": "code",
   "execution_count": null,
   "metadata": {},
   "outputs": [],
   "source": []
  },
  {
   "cell_type": "code",
   "execution_count": null,
   "metadata": {},
   "outputs": [],
   "source": []
  }
 ],
 "metadata": {
  "kernelspec": {
   "display_name": "Python 3",
   "language": "python",
   "name": "python3"
  },
  "language_info": {
   "codemirror_mode": {
    "name": "ipython",
    "version": 3
   },
   "file_extension": ".py",
   "mimetype": "text/x-python",
   "name": "python",
   "nbconvert_exporter": "python",
   "pygments_lexer": "ipython3",
   "version": "3.7.3"
  }
 },
 "nbformat": 4,
 "nbformat_minor": 2
}
